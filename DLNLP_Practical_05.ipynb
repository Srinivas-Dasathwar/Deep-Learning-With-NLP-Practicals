{
  "nbformat": 4,
  "nbformat_minor": 0,
  "metadata": {
    "colab": {
      "provenance": []
    },
    "kernelspec": {
      "name": "python3",
      "display_name": "Python 3"
    },
    "language_info": {
      "name": "python"
    }
  },
  "cells": [
    {
      "cell_type": "code",
      "execution_count": null,
      "metadata": {
        "colab": {
          "base_uri": "https://localhost:8080/"
        },
        "id": "8zyBNc_itYMd",
        "outputId": "b2f63f15-31be-455b-e1d6-e625232c9d82"
      },
      "outputs": [
        {
          "output_type": "stream",
          "name": "stdout",
          "text": [
            "Requirement already satisfied: keras in /usr/local/lib/python3.10/dist-packages (2.15.0)\n"
          ]
        }
      ],
      "source": [
        "!pip install keras"
      ]
    },
    {
      "cell_type": "code",
      "source": [
        "from keras.preprocessing.text import text_to_word_sequence, Tokenizer\n",
        "from keras.preprocessing.sequence import pad_sequences\n",
        "from keras.models import Sequential\n",
        "from keras.layers import Embedding, LSTM, Dense\n",
        "from sklearn.model_selection import train_test_split\n",
        "import numpy as np"
      ],
      "metadata": {
        "id": "Tb5JqbuVttT-"
      },
      "execution_count": null,
      "outputs": []
    },
    {
      "cell_type": "code",
      "source": [
        "texts = [\n",
        "    \"Keras is an open-source software library that provides a Python interface for artificial neural networks.\",\n",
        "    \"Keras acts as an interface for the TensorFlow library.\",\n",
        "    \"It was developed by François Chollet, a Google engineer.\",\n",
        "    \"Keras allows for easy and fast prototyping, supports both convolutional networks and recurrent networks, and runs seamlessly on CPU and GPU.\"\n",
        "]"
      ],
      "metadata": {
        "id": "yqfZvsb1ut8-"
      },
      "execution_count": null,
      "outputs": []
    },
    {
      "cell_type": "code",
      "source": [
        "word_sequences = [text_to_word_sequence(text) for text in texts]\n",
        "\n",
        "for i, sequence in enumerate(word_sequences):\n",
        "    print(f\"Text {i+1}: {sequence}\")"
      ],
      "metadata": {
        "colab": {
          "base_uri": "https://localhost:8080/"
        },
        "id": "6nTz989zu0VF",
        "outputId": "16ba5991-f3ca-483a-ca10-beea4a1e5ebd"
      },
      "execution_count": null,
      "outputs": [
        {
          "output_type": "stream",
          "name": "stdout",
          "text": [
            "Text 1: ['keras', 'is', 'an', 'open', 'source', 'software', 'library', 'that', 'provides', 'a', 'python', 'interface', 'for', 'artificial', 'neural', 'networks']\n",
            "Text 2: ['keras', 'acts', 'as', 'an', 'interface', 'for', 'the', 'tensorflow', 'library']\n",
            "Text 3: ['it', 'was', 'developed', 'by', 'françois', 'chollet', 'a', 'google', 'engineer']\n",
            "Text 4: ['keras', 'allows', 'for', 'easy', 'and', 'fast', 'prototyping', 'supports', 'both', 'convolutional', 'networks', 'and', 'recurrent', 'networks', 'and', 'runs', 'seamlessly', 'on', 'cpu', 'and', 'gpu']\n"
          ]
        }
      ]
    },
    {
      "cell_type": "code",
      "source": [
        "tokenizer = Tokenizer()\n",
        "tokenizer.fit_on_texts(texts)\n",
        "\n",
        "sequences = tokenizer.texts_to_sequences(texts)\n",
        "\n",
        "for i, sequence in enumerate(sequences):\n",
        "    print(f\"Text {i+1} sequence: {sequence}\")"
      ],
      "metadata": {
        "colab": {
          "base_uri": "https://localhost:8080/"
        },
        "id": "s7Ce7bhQvCUO",
        "outputId": "badff313-25e3-41cd-b84c-bddc1cb182ed"
      },
      "execution_count": null,
      "outputs": [
        {
          "output_type": "stream",
          "name": "stdout",
          "text": [
            "Text 1 sequence: [2, 9, 5, 10, 11, 12, 6, 13, 14, 7, 15, 8, 3, 16, 17, 4]\n",
            "Text 2 sequence: [2, 18, 19, 5, 8, 3, 20, 21, 6]\n",
            "Text 3 sequence: [22, 23, 24, 25, 26, 27, 7, 28, 29]\n",
            "Text 4 sequence: [2, 30, 3, 31, 1, 32, 33, 34, 35, 36, 4, 1, 37, 4, 1, 38, 39, 40, 41, 1, 42]\n"
          ]
        }
      ]
    },
    {
      "cell_type": "code",
      "source": [
        "max_length = max(len(seq) for seq in sequences)\n",
        "padded_sequences = pad_sequences(sequences, maxlen=max_length)\n",
        "\n",
        "print(\"Padded sequences:\")\n",
        "print(padded_sequences)"
      ],
      "metadata": {
        "colab": {
          "base_uri": "https://localhost:8080/"
        },
        "id": "ZZyxP7YNvMJB",
        "outputId": "d6b1b3d6-96fd-4893-ec50-8a4411d443cf"
      },
      "execution_count": null,
      "outputs": [
        {
          "output_type": "stream",
          "name": "stdout",
          "text": [
            "Padded sequences:\n",
            "[[ 0  0  0  0  0  2  9  5 10 11 12  6 13 14  7 15  8  3 16 17  4]\n",
            " [ 0  0  0  0  0  0  0  0  0  0  0  0  2 18 19  5  8  3 20 21  6]\n",
            " [ 0  0  0  0  0  0  0  0  0  0  0  0 22 23 24 25 26 27  7 28 29]\n",
            " [ 2 30  3 31  1 32 33 34 35 36  4  1 37  4  1 38 39 40 41  1 42]]\n"
          ]
        }
      ]
    },
    {
      "cell_type": "code",
      "source": [
        "model = Sequential()\n",
        "model.add(Embedding(input_dim=len(tokenizer.word_index) + 1, output_dim=50, input_length=max_length))\n",
        "model.add(LSTM(units=50))\n",
        "model.add(Dense(1, activation='sigmoid'))\n",
        "model.compile(optimizer='adam', loss='binary_crossentropy', metrics=['accuracy'])\n",
        "\n",
        "model.summary()"
      ],
      "metadata": {
        "colab": {
          "base_uri": "https://localhost:8080/"
        },
        "id": "KiR8JIdxvUV3",
        "outputId": "0a52a346-ace8-44ee-e1b0-354321b7df5c"
      },
      "execution_count": null,
      "outputs": [
        {
          "output_type": "stream",
          "name": "stdout",
          "text": [
            "Model: \"sequential\"\n",
            "_________________________________________________________________\n",
            " Layer (type)                Output Shape              Param #   \n",
            "=================================================================\n",
            " embedding (Embedding)       (None, 21, 50)            2150      \n",
            "                                                                 \n",
            " lstm (LSTM)                 (None, 50)                20200     \n",
            "                                                                 \n",
            " dense (Dense)               (None, 1)                 51        \n",
            "                                                                 \n",
            "=================================================================\n",
            "Total params: 22401 (87.50 KB)\n",
            "Trainable params: 22401 (87.50 KB)\n",
            "Non-trainable params: 0 (0.00 Byte)\n",
            "_________________________________________________________________\n"
          ]
        }
      ]
    },
    {
      "cell_type": "code",
      "source": [
        "labels = np.array([1, 0, 1, 0])\n",
        "\n",
        "X_train, X_test, y_train, y_test = train_test_split(padded_sequences, labels, test_size=0.2, random_state=42)"
      ],
      "metadata": {
        "id": "S1jYIz7YvjWK"
      },
      "execution_count": null,
      "outputs": []
    },
    {
      "cell_type": "code",
      "source": [
        "model.fit(X_train, y_train, epochs=10, batch_size=2, validation_data=(X_test, y_test))"
      ],
      "metadata": {
        "colab": {
          "base_uri": "https://localhost:8080/"
        },
        "id": "QSE8ZErtvolP",
        "outputId": "f743b92f-75b7-4924-b120-271782ddf66f"
      },
      "execution_count": null,
      "outputs": [
        {
          "output_type": "stream",
          "name": "stdout",
          "text": [
            "Epoch 1/10\n",
            "2/2 [==============================] - 4s 1s/step - loss: 0.6923 - accuracy: 0.3333 - val_loss: 0.7017 - val_accuracy: 0.0000e+00\n",
            "Epoch 2/10\n",
            "2/2 [==============================] - 0s 135ms/step - loss: 0.6805 - accuracy: 1.0000 - val_loss: 0.7070 - val_accuracy: 0.0000e+00\n",
            "Epoch 3/10\n",
            "2/2 [==============================] - 0s 167ms/step - loss: 0.6709 - accuracy: 1.0000 - val_loss: 0.7161 - val_accuracy: 0.0000e+00\n",
            "Epoch 4/10\n",
            "2/2 [==============================] - 0s 142ms/step - loss: 0.6598 - accuracy: 1.0000 - val_loss: 0.7287 - val_accuracy: 0.0000e+00\n",
            "Epoch 5/10\n",
            "2/2 [==============================] - 0s 128ms/step - loss: 0.6468 - accuracy: 1.0000 - val_loss: 0.7458 - val_accuracy: 0.0000e+00\n",
            "Epoch 6/10\n",
            "2/2 [==============================] - 0s 96ms/step - loss: 0.6299 - accuracy: 1.0000 - val_loss: 0.7698 - val_accuracy: 0.0000e+00\n",
            "Epoch 7/10\n",
            "2/2 [==============================] - 0s 92ms/step - loss: 0.6097 - accuracy: 1.0000 - val_loss: 0.8041 - val_accuracy: 0.0000e+00\n",
            "Epoch 8/10\n",
            "2/2 [==============================] - 0s 98ms/step - loss: 0.5826 - accuracy: 1.0000 - val_loss: 0.8560 - val_accuracy: 0.0000e+00\n",
            "Epoch 9/10\n",
            "2/2 [==============================] - 0s 77ms/step - loss: 0.5457 - accuracy: 1.0000 - val_loss: 0.9379 - val_accuracy: 0.0000e+00\n",
            "Epoch 10/10\n",
            "2/2 [==============================] - 0s 125ms/step - loss: 0.4977 - accuracy: 1.0000 - val_loss: 1.0754 - val_accuracy: 0.0000e+00\n"
          ]
        },
        {
          "output_type": "execute_result",
          "data": {
            "text/plain": [
              "<keras.src.callbacks.History at 0x7f690561e020>"
            ]
          },
          "metadata": {},
          "execution_count": 9
        }
      ]
    },
    {
      "cell_type": "code",
      "source": [
        "loss, accuracy = model.evaluate(X_test, y_test)\n",
        "print(f\"Test Loss: {loss}\")\n",
        "print(f\"Test Accuracy: {accuracy}\")"
      ],
      "metadata": {
        "colab": {
          "base_uri": "https://localhost:8080/"
        },
        "id": "aSh5n-vivtLD",
        "outputId": "a6acbade-60ad-4fae-860a-b4c606c91780"
      },
      "execution_count": null,
      "outputs": [
        {
          "output_type": "stream",
          "name": "stdout",
          "text": [
            "1/1 [==============================] - 0s 45ms/step - loss: 1.0754 - accuracy: 0.0000e+00\n",
            "Test Loss: 1.0753716230392456\n",
            "Test Accuracy: 0.0\n"
          ]
        }
      ]
    },
    {
      "cell_type": "code",
      "source": [],
      "metadata": {
        "id": "rIZ5OF9vv1d5"
      },
      "execution_count": null,
      "outputs": []
    }
  ]
}