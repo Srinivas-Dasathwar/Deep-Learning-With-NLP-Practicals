{
  "nbformat": 4,
  "nbformat_minor": 0,
  "metadata": {
    "colab": {
      "provenance": [],
      "authorship_tag": "ABX9TyPawHZdj+u/z4btBg/ZyU8F",
      "include_colab_link": true
    },
    "kernelspec": {
      "name": "python3",
      "display_name": "Python 3"
    },
    "language_info": {
      "name": "python"
    }
  },
  "cells": [
    {
      "cell_type": "markdown",
      "metadata": {
        "id": "view-in-github",
        "colab_type": "text"
      },
      "source": [
        "<a href=\"https://colab.research.google.com/github/Srinivas-Dasathwar/Deep-Learning-With-NLP-Practicals/blob/main/DLNLP_Practicel_03.ipynb\" target=\"_parent\"><img src=\"https://colab.research.google.com/assets/colab-badge.svg\" alt=\"Open In Colab\"/></a>"
      ]
    },
    {
      "cell_type": "code",
      "source": [
        "from sklearn.feature_extraction.text import TfidfVectorizer\n",
        "vectorizer = TfidfVectorizer()\n",
        "corpus = [\"This a corpus vectorizer assigning the words as values in an array according to the vectorized context\"]\n",
        "vectorizer.fit_transform(corpus)\n",
        "my_keys = list(vectorizer.vocabulary_.keys())\n",
        "my_values = list(vectorizer.vocabulary_.values())\n",
        "print(my_keys)\n",
        "print(my_values)"
      ],
      "metadata": {
        "colab": {
          "base_uri": "https://localhost:8080/"
        },
        "id": "_wTwI0R7xpON",
        "outputId": "ad2e6ac0-d93f-4579-a1d0-bfd604fd1def"
      },
      "execution_count": null,
      "outputs": [
        {
          "output_type": "stream",
          "name": "stdout",
          "text": [
            "['this', 'corpus', 'vectorizer', 'assigning', 'the', 'words', 'as', 'values', 'in', 'an', 'array', 'according', 'to', 'vectorized', 'context']\n",
            "[9, 6, 13, 4, 8, 14, 3, 11, 7, 1, 2, 0, 10, 12, 5]\n"
          ]
        }
      ]
    },
    {
      "cell_type": "code",
      "source": [
        "my_keys.sort()\n",
        "print(my_keys)"
      ],
      "metadata": {
        "colab": {
          "base_uri": "https://localhost:8080/"
        },
        "id": "Yob0Uev5yPSC",
        "outputId": "f4e98a91-8377-40c4-e4d5-00df7cab19a0"
      },
      "execution_count": null,
      "outputs": [
        {
          "output_type": "stream",
          "name": "stdout",
          "text": [
            "['according', 'an', 'array', 'as', 'assigning', 'context', 'corpus', 'in', 'the', 'this', 'to', 'values', 'vectorized', 'vectorizer', 'words']\n"
          ]
        }
      ]
    },
    {
      "cell_type": "code",
      "source": [
        "sorted_dict = dict(zip(my_keys, my_values))\n",
        "print(sorted_dict)"
      ],
      "metadata": {
        "colab": {
          "base_uri": "https://localhost:8080/"
        },
        "id": "Mqo2cVcCyVUZ",
        "outputId": "f100ea47-b78b-439e-a920-d394bdd8f0f9"
      },
      "execution_count": null,
      "outputs": [
        {
          "output_type": "stream",
          "name": "stdout",
          "text": [
            "{'according': 9, 'an': 6, 'array': 13, 'as': 4, 'assigning': 8, 'context': 14, 'corpus': 3, 'in': 11, 'the': 7, 'this': 1, 'to': 2, 'values': 0, 'vectorized': 10, 'vectorizer': 12, 'words': 5}\n"
          ]
        }
      ]
    },
    {
      "cell_type": "code",
      "source": [
        "print(vectorizer.idf_)"
      ],
      "metadata": {
        "colab": {
          "base_uri": "https://localhost:8080/"
        },
        "id": "VO5-4IslyYLX",
        "outputId": "9d37af24-f1a9-4980-a14b-bfb3943aaef7"
      },
      "execution_count": null,
      "outputs": [
        {
          "output_type": "stream",
          "name": "stdout",
          "text": [
            "[1. 1. 1. 1. 1. 1. 1. 1. 1. 1. 1. 1. 1. 1. 1.]\n"
          ]
        }
      ]
    },
    {
      "cell_type": "code",
      "source": [],
      "metadata": {
        "id": "I-TXEoP2ybZo"
      },
      "execution_count": null,
      "outputs": []
    }
  ]
}